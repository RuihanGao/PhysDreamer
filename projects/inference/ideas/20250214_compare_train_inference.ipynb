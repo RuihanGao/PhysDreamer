{
 "cells": [
  {
   "cell_type": "markdown",
   "metadata": {},
   "source": [
    "# when we add constant force, we can apply the force on particle or on grid.\n",
    "Current problem: rendering output are static images when applying impulse on grid. so compare saved state (particle_v and particle_pos) between applying impulse on grid and on particles"
   ]
  },
  {
   "cell_type": "code",
   "execution_count": 1,
   "metadata": {},
   "outputs": [],
   "source": [
    "import numpy as np \n",
    "import os\n",
    "import os.path as osp"
   ]
  },
  {
   "cell_type": "markdown",
   "metadata": {},
   "source": [
    "# 2025-02-14 check intermediate results in p2g2p_differentiable\n",
    "compare train_material and demo"
   ]
  },
  {
   "cell_type": "code",
   "execution_count": 2,
   "metadata": {},
   "outputs": [],
   "source": [
    "import os \n",
    "import os.path as osp\n",
    "import numpy as np"
   ]
  },
  {
   "cell_type": "code",
   "execution_count": 29,
   "metadata": {},
   "outputs": [],
   "source": [
    "demo_base_path = \"/data/ruihan/projects/PhysDreamer/projects/inference/output/carnations/demos\"\n",
    "demo_base_name = \"inference_demo_carnation_sv_gres64_substep768_model_0_no_force_velo_1.0_hf_grid_lv_lm\"\n",
    "\n",
    "train_base_path = \"/data/ruihan/projects/PhysDreamer/projects/train/output/inverse_sim/mat_pm_pv_lr_0.001_debug\"\n",
    "train_base_name = \"trial\"\n",
    "\n",
    "step = 0\n",
    "substep = 2"
   ]
  },
  {
   "cell_type": "code",
   "execution_count": 30,
   "metadata": {},
   "outputs": [],
   "source": [
    "demo_name = osp.join(demo_base_path, demo_base_name)\n",
    "train_name = osp.join(train_base_path, train_base_name)"
   ]
  },
  {
   "cell_type": "code",
   "execution_count": 31,
   "metadata": {},
   "outputs": [],
   "source": [
    "# after prep2g_operation\n",
    "demo_particle_v_afterprep2g_path = f\"{demo_name}_particle_v_afterprep2g_{step}_{substep}.npy\"\n",
    "demo_particle_v_afterprep2g = np.load(demo_particle_v_afterprep2g_path)\n",
    "\n",
    "train_particle_v_afterprep2g_path = f\"{train_name}_particle_v_afterprep2g_{step}_{substep}.npy\"\n",
    "train_particle_v_afterprep2g = np.load(train_particle_v_afterprep2g_path)"
   ]
  },
  {
   "cell_type": "code",
   "execution_count": 32,
   "metadata": {},
   "outputs": [
    {
     "name": "stdout",
     "output_type": "stream",
     "text": [
      "16026 16026\n",
      "False\n"
     ]
    }
   ],
   "source": [
    "print(np.count_nonzero(demo_particle_v_afterprep2g), np.count_nonzero(train_particle_v_afterprep2g))\n",
    "print(np.allclose(demo_particle_v_afterprep2g, train_particle_v_afterprep2g))"
   ]
  },
  {
   "cell_type": "code",
   "execution_count": 33,
   "metadata": {},
   "outputs": [
    {
     "name": "stdout",
     "output_type": "stream",
     "text": [
      "check range: \n",
      " demo_particle_v_afterprep2g -0.023103900253772736 0.022453948855400085 \n",
      " train_particle_v_afterprep2g -0.023651737719774246 0.023385606706142426\n"
     ]
    }
   ],
   "source": [
    "print(f\"check range: \\n demo_particle_v_afterprep2g {np.min(demo_particle_v_afterprep2g)} {np.max(demo_particle_v_afterprep2g)} \\n train_particle_v_afterprep2g {np.min(train_particle_v_afterprep2g)} {np.max(train_particle_v_afterprep2g)}\")"
   ]
  },
  {
   "cell_type": "code",
   "execution_count": 34,
   "metadata": {},
   "outputs": [],
   "source": [
    "# before p2g_apic \n",
    "demo_grid_vin_bfp2g_path = f\"{demo_name}_grid_vin_bfp2g_{step}_{substep}.npy\"\n",
    "demo_grid_vin_bfp2g= np.load(demo_grid_vin_bfp2g_path)\n",
    "\n",
    "train_grid_vin_bfp2g_path = f\"{train_name}_grid_vin_bfp2g_{step}_{substep}.npy\"\n",
    "train_grid_vin_bfp2g = np.load(train_grid_vin_bfp2g_path)"
   ]
  },
  {
   "cell_type": "code",
   "execution_count": 35,
   "metadata": {},
   "outputs": [
    {
     "name": "stdout",
     "output_type": "stream",
     "text": [
      "0 0\n",
      "True\n"
     ]
    }
   ],
   "source": [
    "print(np.count_nonzero(demo_grid_vin_bfp2g), np.count_nonzero(train_grid_vin_bfp2g))\n",
    "print(np.allclose(demo_grid_vin_bfp2g, train_grid_vin_bfp2g))"
   ]
  },
  {
   "cell_type": "code",
   "execution_count": 36,
   "metadata": {},
   "outputs": [],
   "source": [
    "# after p2g_apic \n",
    "demo_grid_vin_afp2g_path = f\"{demo_name}_grid_vin_afp2g_{step}_{substep}.npy\"\n",
    "demo_grid_vin_afp2g = np.load(demo_grid_vin_afp2g_path)\n",
    "\n",
    "train_grid_vin_afp2g_path = f\"{train_name}_grid_vin_afp2g_{step}_{substep}.npy\"\n",
    "train_grid_vin_afp2g = np.load(train_grid_vin_afp2g_path)"
   ]
  },
  {
   "cell_type": "code",
   "execution_count": 39,
   "metadata": {},
   "outputs": [
    {
     "name": "stdout",
     "output_type": "stream",
     "text": [
      "1401 1407\n",
      "False\n",
      "check range \n",
      " demo_grid_vin_afp2g -0.0002921378763858229 0.0002830738667398691 \n",
      " train_grid_vin_afp2g -5.3134786867303774e-05 7.439472392434254e-05\n"
     ]
    }
   ],
   "source": [
    "print(np.count_nonzero(demo_grid_vin_afp2g), np.count_nonzero(train_grid_vin_afp2g))\n",
    "print(np.allclose(demo_grid_vin_afp2g, train_grid_vin_afp2g))\n",
    "print(f\"check range \\n demo_grid_vin_afp2g {np.min(demo_grid_vin_afp2g)} {np.max(demo_grid_vin_afp2g)} \\n train_grid_vin_afp2g {np.min(train_grid_vin_afp2g)} {np.max(train_grid_vin_afp2g)}\")"
   ]
  },
  {
   "cell_type": "code",
   "execution_count": 41,
   "metadata": {},
   "outputs": [],
   "source": [
    "# after extra \n",
    "demo_grid_vin_afextra_path = f\"{demo_name}_grid_vin_afextra_{step}_{substep}.npy\"\n",
    "demo_grid_vin_afextra = np.load(demo_grid_vin_afextra_path)\n",
    "\n",
    "train_grid_vin_afextra_path = f\"{train_name}_grid_vin_afextra_{step}_{substep}.npy\"\n",
    "train_grid_vin_afextra = np.load(train_grid_vin_afextra_path)"
   ]
  },
  {
   "cell_type": "code",
   "execution_count": 42,
   "metadata": {},
   "outputs": [
    {
     "name": "stdout",
     "output_type": "stream",
     "text": [
      "1401 1407\n",
      "False\n",
      "check range \n",
      " demo_grid_vin_afextra -0.0002921378763858229 0.0002830738667398691 \n",
      " train_grid_vin_afextra -5.3134786867303774e-05 7.439472392434254e-05\n"
     ]
    }
   ],
   "source": [
    "print(np.count_nonzero(demo_grid_vin_afextra), np.count_nonzero(train_grid_vin_afextra))\n",
    "print(np.allclose(demo_grid_vin_afextra, train_grid_vin_afextra))\n",
    "print(f\"check range \\n demo_grid_vin_afextra {np.min(demo_grid_vin_afextra)} {np.max(demo_grid_vin_afextra)} \\n train_grid_vin_afextra {np.min(train_grid_vin_afextra)} {np.max(train_grid_vin_afextra)}\")"
   ]
  },
  {
   "cell_type": "code",
   "execution_count": 44,
   "metadata": {},
   "outputs": [],
   "source": [
    "# after grid update\n",
    "demo_grid_vout_gridupdate_path = f\"{demo_name}_grid_vout_gridupdate_{step}_{substep}.npy\"\n",
    "demo_grid_vout_gridupdate = np.load(demo_grid_vout_gridupdate_path)\n",
    "\n",
    "train_grid_vout_gridupdate_path = f\"{train_name}_grid_vout_gridupdate_{step}_{substep}.npy\"\n",
    "train_grid_vout_gridupdate = np.load(train_grid_vout_gridupdate_path)"
   ]
  },
  {
   "cell_type": "code",
   "execution_count": 45,
   "metadata": {},
   "outputs": [
    {
     "name": "stdout",
     "output_type": "stream",
     "text": [
      "1401 1404\n",
      "False\n",
      "check range \n",
      " demo_grid_vout_gridupdate -0.10284572094678879 0.3535817563533783 \n",
      " train_grid_vout_gridupdate -2.945240020751953 2.6620888710021973\n"
     ]
    }
   ],
   "source": [
    "print(np.count_nonzero(demo_grid_vout_gridupdate), np.count_nonzero(train_grid_vout_gridupdate))\n",
    "print(np.allclose(demo_grid_vout_gridupdate, train_grid_vout_gridupdate))\n",
    "print(f\"check range \\n demo_grid_vout_gridupdate {np.min(demo_grid_vout_gridupdate)} {np.max(demo_grid_vout_gridupdate)} \\n train_grid_vout_gridupdate {np.min(train_grid_vout_gridupdate)} {np.max(train_grid_vout_gridupdate)}\")"
   ]
  },
  {
   "cell_type": "code",
   "execution_count": null,
   "metadata": {},
   "outputs": [],
   "source": []
  }
 ],
 "metadata": {
  "kernelspec": {
   "display_name": "physdreamer",
   "language": "python",
   "name": "python3"
  },
  "language_info": {
   "codemirror_mode": {
    "name": "ipython",
    "version": 3
   },
   "file_extension": ".py",
   "mimetype": "text/x-python",
   "name": "python",
   "nbconvert_exporter": "python",
   "pygments_lexer": "ipython3",
   "version": "3.10.16"
  }
 },
 "nbformat": 4,
 "nbformat_minor": 2
}
