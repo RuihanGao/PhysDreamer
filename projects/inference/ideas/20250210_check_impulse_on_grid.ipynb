{
 "cells": [
  {
   "cell_type": "markdown",
   "metadata": {},
   "source": [
    "# when we add constant force, we can apply the force on particle or on grid.\n",
    "Current problem: rendering output are static images when applying impulse on grid. so compare saved state (particle_v and particle_pos) between applying impulse on grid and on particles"
   ]
  },
  {
   "cell_type": "code",
   "execution_count": 1,
   "metadata": {},
   "outputs": [],
   "source": [
    "import numpy as np \n",
    "import os\n",
    "import os.path as osp"
   ]
  },
  {
   "cell_type": "code",
   "execution_count": 3,
   "metadata": {},
   "outputs": [
    {
     "name": "stdout",
     "output_type": "stream",
     "text": [
      "check shape particle_v: (69120, 13356, 3), grid_v: (69120, 13356, 3)\n",
      "check range particle_v: -0.004458322189748287, 0.004896393045783043\n",
      "check range grid_v: -16.090402603149414, 0.5334120988845825\n"
     ]
    }
   ],
   "source": [
    "base_path = \"/data/ruihan/projects/PhysDreamer/projects/inference/output/carnations/demos\"\n",
    "base_name = \"inference_demo_carnation_sv_gres64_substep768_eval_ys_5000000.0_force_0_mag_0.01_point_0\"\n",
    "particle_v_path = osp.join(base_path, base_name + \"_particle__debug__pos_particle_v.npy\")\n",
    "particle_v = np.load(particle_v_path)\n",
    "\n",
    "grid_v_path = osp.join(base_path, base_name + \"_grid_debug__pos_particle_v.npy\")\n",
    "grid_v = np.load(grid_v_path)\n",
    "print(f\"check shape particle_v: {particle_v.shape}, grid_v: {grid_v.shape}\")\n",
    "print(f\"check range particle_v: {np.min(particle_v)}, {np.max(particle_v)}\")\n",
    "print(f\"check range grid_v: {np.min(grid_v)}, {np.max(grid_v)}\")"
   ]
  },
  {
   "cell_type": "code",
   "execution_count": 4,
   "metadata": {},
   "outputs": [
    {
     "data": {
      "text/plain": [
       "0"
      ]
     },
     "execution_count": 4,
     "metadata": {},
     "output_type": "execute_result"
    }
   ],
   "source": [
    "np.isnan(grid_v).sum()"
   ]
  },
  {
   "cell_type": "code",
   "execution_count": 5,
   "metadata": {},
   "outputs": [
    {
     "name": "stdout",
     "output_type": "stream",
     "text": [
      "check shape particle_pos: (91, 13356, 3), grid_pos: (91, 13356, 3)\n",
      "check range particle_pos: -0.7802839279174805, 1.2033041715621948\n",
      "check range grid_pos: -0.7802839279174805, 1.2033041715621948\n"
     ]
    }
   ],
   "source": [
    "particle_pos_path = osp.join(base_path, base_name + \"_particle__debug__pos.npy\")\n",
    "particle_pos = np.load(particle_pos_path)\n",
    "\n",
    "grid_pos_path = osp.join(base_path, base_name + \"_grid_debug__pos.npy\")\n",
    "grid_pos = np.load(grid_pos_path)\n",
    "print(f\"check shape particle_pos: {particle_pos.shape}, grid_pos: {grid_pos.shape}\")\n",
    "print(f\"check range particle_pos: {np.min(particle_pos)}, {np.max(particle_pos)}\")\n",
    "print(f\"check range grid_pos: {np.min(grid_pos)}, {np.max(grid_pos)}\")"
   ]
  },
  {
   "cell_type": "code",
   "execution_count": 16,
   "metadata": {},
   "outputs": [
    {
     "name": "stdout",
     "output_type": "stream",
     "text": [
      "check shape particle_pos_diff: (91, 13356, 3), grid_pos_diff: (91, 13356, 3)\n"
     ]
    }
   ],
   "source": [
    "particle_pos_diff_path = osp.join(base_path, base_name + \"_particle__debug__pos_diff.npy\")\n",
    "particle_pos_diff = np.load(particle_pos_diff_path)\n",
    "\n",
    "grid_pos_diff_path = osp.join(base_path, base_name + \"_grid_debug__pos_diff.npy\")\n",
    "grid_pos_diff = np.load(grid_pos_diff_path)\n",
    "\n",
    "print(f\"check shape particle_pos_diff: {particle_pos_diff.shape}, grid_pos_diff: {grid_pos_diff.shape}\")\n"
   ]
  },
  {
   "cell_type": "code",
   "execution_count": 17,
   "metadata": {},
   "outputs": [
    {
     "name": "stdout",
     "output_type": "stream",
     "text": [
      "(array([    3,     3,     3, ..., 13319, 13319, 13319]), array([0, 1, 2, ..., 0, 1, 2])), len 2429015\n",
      "(array([    3,     3,     3, ..., 13319, 13319, 13319]), array([0, 1, 2, ..., 0, 1, 2])), len 212490\n"
     ]
    }
   ],
   "source": [
    "print(f\"{np.nonzero(particle_pos_diff[1])}, len {len(np.nonzero(particle_pos_diff)[1])}\")\n",
    "print(f\"{np.nonzero(grid_pos_diff[1])}, len {len(np.nonzero(grid_pos_diff)[1])}\")"
   ]
  },
  {
   "cell_type": "code",
   "execution_count": 14,
   "metadata": {},
   "outputs": [
    {
     "data": {
      "text/plain": [
       "13353"
      ]
     },
     "execution_count": 14,
     "metadata": {},
     "output_type": "execute_result"
    }
   ],
   "source": [
    "np.nonzero(particle_pos_diff)[1][-4]"
   ]
  },
  {
   "cell_type": "code",
   "execution_count": 15,
   "metadata": {},
   "outputs": [
    {
     "data": {
      "text/plain": [
       "array([[ 0.0000000e+00,  0.0000000e+00,  0.0000000e+00],\n",
       "       [ 0.0000000e+00,  0.0000000e+00,  0.0000000e+00],\n",
       "       [ 6.3180923e-05,  0.0000000e+00,  0.0000000e+00],\n",
       "       [ 1.2874603e-04,  0.0000000e+00,  0.0000000e+00],\n",
       "       [ 2.5284290e-04,  0.0000000e+00,  0.0000000e+00],\n",
       "       [ 3.8385391e-04,  0.0000000e+00,  3.0219555e-05],\n",
       "       [ 5.7131052e-04,  0.0000000e+00,  9.5725060e-05],\n",
       "       [ 7.6782703e-04,  0.0000000e+00,  1.6123056e-04],\n",
       "       [ 1.0078549e-03,  0.0000000e+00,  2.2679567e-04],\n",
       "       [ 1.2699366e-03,  0.0000000e+00,  2.9230118e-04],\n",
       "       [ 1.5447140e-03,  0.0000000e+00,  3.5780668e-04],\n",
       "       [ 1.8723011e-03,  0.0000000e+00,  4.2331219e-04],\n",
       "       [ 2.1998882e-03,  0.0000000e+00,  5.0377846e-04],\n",
       "       [ 2.5479198e-03,  0.0000000e+00,  6.3478947e-04],\n",
       "       [ 2.9410124e-03,  0.0000000e+00,  7.6580048e-04],\n",
       "       [ 3.3341050e-03,  0.0000000e+00,  8.9687109e-04],\n",
       "       [ 3.7271976e-03,  0.0000000e+00,  1.0278821e-03],\n",
       "       [ 4.1357279e-03,  0.0000000e+00,  1.1588931e-03],\n",
       "       [ 4.5943260e-03,  0.0000000e+00,  1.2899637e-03],\n",
       "       [ 5.0529242e-03,  0.0000000e+00,  1.4209747e-03],\n",
       "       [ 5.5115223e-03,  0.0000000e+00,  1.5519857e-03],\n",
       "       [ 5.9701204e-03,  0.0000000e+00,  1.6829967e-03],\n",
       "       [ 6.4287186e-03,  0.0000000e+00,  1.8140674e-03],\n",
       "       [ 6.8873167e-03,  0.0000000e+00,  1.9450784e-03],\n",
       "       [ 7.2872639e-03,  0.0000000e+00,  2.0760894e-03],\n",
       "       [ 7.6609850e-03,  0.0000000e+00,  2.2071600e-03],\n",
       "       [ 7.9885721e-03,  0.0000000e+00,  2.3252964e-03],\n",
       "       [ 8.2620978e-03,  0.0000000e+00,  2.3908019e-03],\n",
       "       [ 8.4992647e-03,  0.0000000e+00,  2.4563074e-03],\n",
       "       [ 8.6958408e-03,  0.0000000e+00,  2.5218129e-03],\n",
       "       [ 8.8310242e-03,  0.0000000e+00,  2.5873780e-03],\n",
       "       [ 8.9311004e-03,  0.0000000e+00,  2.6319027e-03],\n",
       "       [ 8.9966059e-03,  0.0000000e+00,  2.6319027e-03],\n",
       "       [ 8.9983940e-03,  0.0000000e+00,  2.6319027e-03],\n",
       "       [ 8.9588165e-03,  0.0000000e+00,  2.6319027e-03],\n",
       "       [ 8.8933110e-03,  0.0000000e+00,  2.6319027e-03],\n",
       "       [ 8.7625384e-03,  0.0000000e+00,  2.6319027e-03],\n",
       "       [ 8.6121559e-03,  0.0000000e+00,  2.6319027e-03],\n",
       "       [ 8.4155798e-03,  0.0000000e+00,  2.6170611e-03],\n",
       "       [ 8.1947446e-03,  0.0000000e+00,  2.5514960e-03],\n",
       "       [ 7.9326630e-03,  0.0000000e+00,  2.4859905e-03],\n",
       "       [ 7.6633692e-03,  0.0000000e+00,  2.4204850e-03],\n",
       "       [ 7.3357821e-03,  0.0000000e+00,  2.3549795e-03],\n",
       "       [ 7.0081949e-03,  0.0000000e+00,  2.2894740e-03],\n",
       "       [ 6.6773891e-03,  0.0000000e+00,  2.2239685e-03],\n",
       "       [ 6.2842965e-03,  0.0000000e+00,  2.1584630e-03],\n",
       "       [ 5.8912039e-03,  0.0000000e+00,  2.0293593e-03],\n",
       "       [ 5.4981112e-03,  0.0000000e+00,  1.8983483e-03],\n",
       "       [ 5.1050186e-03,  0.0000000e+00,  1.7673373e-03],\n",
       "       [ 4.7119260e-03,  0.0000000e+00,  1.6362667e-03],\n",
       "       [ 4.3188334e-03,  0.0000000e+00,  1.5052557e-03],\n",
       "       [ 3.9257407e-03,  0.0000000e+00,  1.3742447e-03],\n",
       "       [ 3.5327077e-03,  0.0000000e+00,  1.2431741e-03],\n",
       "       [ 3.1396151e-03,  0.0000000e+00,  1.1121631e-03],\n",
       "       [ 2.7465224e-03,  0.0000000e+00,  9.8115206e-04],\n",
       "       [ 2.3534298e-03,  0.0000000e+00,  8.5008144e-04],\n",
       "       [ 1.9603372e-03,  0.0000000e+00,  7.1907043e-04],\n",
       "       [ 1.5672445e-03,  0.0000000e+00,  5.8805943e-04],\n",
       "       [ 1.2384653e-03,  0.0000000e+00,  4.5698881e-04],\n",
       "       [ 9.1087818e-04,  0.0000000e+00,  3.2597780e-04],\n",
       "       [ 5.8329105e-04,  0.0000000e+00,  1.9496679e-04],\n",
       "       [ 2.5576353e-04,  0.0000000e+00,  6.3896179e-05],\n",
       "       [-3.1828880e-05,  0.0000000e+00, -6.7114830e-05],\n",
       "       [-2.9391050e-04,  0.0000000e+00, -1.9812584e-04],\n",
       "       [-5.5593252e-04,  0.0000000e+00, -3.2919645e-04],\n",
       "       [-8.1801414e-04,  0.0000000e+00, -4.6020746e-04],\n",
       "       [-1.0160208e-03,  0.0000000e+00, -5.7256222e-04],\n",
       "       [-1.2125373e-03,  0.0000000e+00, -6.3806772e-04],\n",
       "       [-1.4091134e-03,  0.0000000e+00, -7.0357323e-04],\n",
       "       [-1.5941262e-03,  0.0000000e+00, -7.6907873e-04],\n",
       "       [-1.7251372e-03,  0.0000000e+00, -8.3458424e-04],\n",
       "       [-1.8561482e-03,  0.0000000e+00, -9.0008974e-04],\n",
       "       [-1.9872189e-03,  0.0000000e+00, -9.6565485e-04],\n",
       "       [-2.0947456e-03,  0.0000000e+00, -1.0311604e-03],\n",
       "       [-2.1603107e-03,  0.0000000e+00, -1.0966659e-03],\n",
       "       [-2.2258162e-03,  0.0000000e+00, -1.1621714e-03],\n",
       "       [-2.2913218e-03,  0.0000000e+00, -1.2276769e-03],\n",
       "       [-2.3342967e-03,  0.0000000e+00, -1.2562871e-03],\n",
       "       [-2.3342967e-03,  0.0000000e+00, -1.2562871e-03],\n",
       "       [-2.3342967e-03,  0.0000000e+00, -1.2562871e-03],\n",
       "       [-2.3342967e-03,  0.0000000e+00, -1.2562871e-03],\n",
       "       [-2.3342967e-03,  0.0000000e+00, -1.2562871e-03],\n",
       "       [-2.3118854e-03,  0.0000000e+00, -1.2562871e-03],\n",
       "       [-2.2463799e-03,  0.0000000e+00, -1.2562871e-03],\n",
       "       [-2.1808743e-03,  0.0000000e+00, -1.2562871e-03],\n",
       "       [-2.1153092e-03,  0.0000000e+00, -1.1990070e-03],\n",
       "       [-2.0498037e-03,  0.0000000e+00, -1.1335015e-03],\n",
       "       [-1.9621849e-03,  0.0000000e+00, -1.0679960e-03],\n",
       "       [-1.8311739e-03,  0.0000000e+00, -1.0024905e-03],\n",
       "       [-1.7001629e-03,  0.0000000e+00, -9.3698502e-04],\n",
       "       [-1.5690923e-03,  0.0000000e+00, -8.7147951e-04]], dtype=float32)"
      ]
     },
     "execution_count": 15,
     "metadata": {},
     "output_type": "execute_result"
    }
   ],
   "source": [
    "particle_pos_diff[:, 13353, :]"
   ]
  },
  {
   "cell_type": "code",
   "execution_count": 18,
   "metadata": {},
   "outputs": [
    {
     "data": {
      "text/plain": [
       "array([[0., 0., 0.],\n",
       "       [0., 0., 0.],\n",
       "       [0., 0., 0.],\n",
       "       [0., 0., 0.],\n",
       "       [0., 0., 0.],\n",
       "       [0., 0., 0.],\n",
       "       [0., 0., 0.],\n",
       "       [0., 0., 0.],\n",
       "       [0., 0., 0.],\n",
       "       [0., 0., 0.],\n",
       "       [0., 0., 0.],\n",
       "       [0., 0., 0.],\n",
       "       [0., 0., 0.],\n",
       "       [0., 0., 0.],\n",
       "       [0., 0., 0.],\n",
       "       [0., 0., 0.],\n",
       "       [0., 0., 0.],\n",
       "       [0., 0., 0.],\n",
       "       [0., 0., 0.],\n",
       "       [0., 0., 0.],\n",
       "       [0., 0., 0.],\n",
       "       [0., 0., 0.],\n",
       "       [0., 0., 0.],\n",
       "       [0., 0., 0.],\n",
       "       [0., 0., 0.],\n",
       "       [0., 0., 0.],\n",
       "       [0., 0., 0.],\n",
       "       [0., 0., 0.],\n",
       "       [0., 0., 0.],\n",
       "       [0., 0., 0.],\n",
       "       [0., 0., 0.],\n",
       "       [0., 0., 0.],\n",
       "       [0., 0., 0.],\n",
       "       [0., 0., 0.],\n",
       "       [0., 0., 0.],\n",
       "       [0., 0., 0.],\n",
       "       [0., 0., 0.],\n",
       "       [0., 0., 0.],\n",
       "       [0., 0., 0.],\n",
       "       [0., 0., 0.],\n",
       "       [0., 0., 0.],\n",
       "       [0., 0., 0.],\n",
       "       [0., 0., 0.],\n",
       "       [0., 0., 0.],\n",
       "       [0., 0., 0.],\n",
       "       [0., 0., 0.],\n",
       "       [0., 0., 0.],\n",
       "       [0., 0., 0.],\n",
       "       [0., 0., 0.],\n",
       "       [0., 0., 0.],\n",
       "       [0., 0., 0.],\n",
       "       [0., 0., 0.],\n",
       "       [0., 0., 0.],\n",
       "       [0., 0., 0.],\n",
       "       [0., 0., 0.],\n",
       "       [0., 0., 0.],\n",
       "       [0., 0., 0.],\n",
       "       [0., 0., 0.],\n",
       "       [0., 0., 0.],\n",
       "       [0., 0., 0.],\n",
       "       [0., 0., 0.],\n",
       "       [0., 0., 0.],\n",
       "       [0., 0., 0.],\n",
       "       [0., 0., 0.],\n",
       "       [0., 0., 0.],\n",
       "       [0., 0., 0.],\n",
       "       [0., 0., 0.],\n",
       "       [0., 0., 0.],\n",
       "       [0., 0., 0.],\n",
       "       [0., 0., 0.],\n",
       "       [0., 0., 0.],\n",
       "       [0., 0., 0.],\n",
       "       [0., 0., 0.],\n",
       "       [0., 0., 0.],\n",
       "       [0., 0., 0.],\n",
       "       [0., 0., 0.],\n",
       "       [0., 0., 0.],\n",
       "       [0., 0., 0.],\n",
       "       [0., 0., 0.],\n",
       "       [0., 0., 0.],\n",
       "       [0., 0., 0.],\n",
       "       [0., 0., 0.],\n",
       "       [0., 0., 0.],\n",
       "       [0., 0., 0.],\n",
       "       [0., 0., 0.],\n",
       "       [0., 0., 0.],\n",
       "       [0., 0., 0.],\n",
       "       [0., 0., 0.],\n",
       "       [0., 0., 0.],\n",
       "       [0., 0., 0.],\n",
       "       [0., 0., 0.]], dtype=float32)"
      ]
     },
     "execution_count": 18,
     "metadata": {},
     "output_type": "execute_result"
    }
   ],
   "source": [
    "grid_pos_diff[:, 13353, :]"
   ]
  },
  {
   "cell_type": "code",
   "execution_count": 30,
   "metadata": {},
   "outputs": [
    {
     "name": "stdout",
     "output_type": "stream",
     "text": [
      "[0. 0. 0.] [ 5.5719674e-06  6.4717256e-06 -8.7187054e-06] [ 1.1231936e-05  8.1254066e-06 -8.3314553e-06] [ 3.0367895e-05  8.9663363e-06 -8.6618547e-06] [ 4.4371998e-05  9.5346659e-06 -9.1732445e-06]\n"
     ]
    }
   ],
   "source": [
    "particle_v[:, 13353, :]\n",
    "print(particle_v[0, 13353, :], particle_v[15, 13353, :], particle_v[30, 13353, :], particle_v[60, 13353, :], particle_v[90, 13353, :])"
   ]
  },
  {
   "cell_type": "code",
   "execution_count": 29,
   "metadata": {},
   "outputs": [
    {
     "name": "stdout",
     "output_type": "stream",
     "text": [
      "[0. 0. 0.] [-3.8823003e-07  6.6455559e-06 -7.9569400e-06] [-1.2158031e-06  7.4517452e-06 -9.9306017e-06] [ 4.8967354e-06  9.8938190e-06 -9.6834037e-06] [ 5.8847559e-06  8.5660868e-06 -1.0927943e-05]\n"
     ]
    }
   ],
   "source": [
    "grid_v[:, 13353, :]\n",
    "print(grid_v[0, 13353, :], grid_v[15, 13353, :], grid_v[30, 13353, :], grid_v[60, 13353, :], grid_v[90, 13353, :])"
   ]
  },
  {
   "cell_type": "code",
   "execution_count": 31,
   "metadata": {},
   "outputs": [
    {
     "data": {
      "text/plain": [
       "69120"
      ]
     },
     "execution_count": 31,
     "metadata": {},
     "output_type": "execute_result"
    }
   ],
   "source": [
    "\n"
   ]
  },
  {
   "cell_type": "code",
   "execution_count": 21,
   "metadata": {},
   "outputs": [
    {
     "data": {
      "text/plain": [
       "array([[0.0712477 , 0.8606416 , 0.08092177],\n",
       "       [0.0712477 , 0.8606416 , 0.08092177],\n",
       "       [0.07131088, 0.8606416 , 0.08092177],\n",
       "       [0.07137644, 0.8606416 , 0.08092177],\n",
       "       [0.07150054, 0.8606416 , 0.08092177],\n",
       "       [0.07163155, 0.8606416 , 0.08095199],\n",
       "       [0.07181901, 0.8606416 , 0.08101749],\n",
       "       [0.07201552, 0.8606416 , 0.081083  ],\n",
       "       [0.07225555, 0.8606416 , 0.08114856],\n",
       "       [0.07251763, 0.8606416 , 0.08121407],\n",
       "       [0.07279241, 0.8606416 , 0.08127958],\n",
       "       [0.07312   , 0.8606416 , 0.08134508],\n",
       "       [0.07344759, 0.8606416 , 0.08142555],\n",
       "       [0.07379562, 0.8606416 , 0.08155656],\n",
       "       [0.07418871, 0.8606416 , 0.08168757],\n",
       "       [0.0745818 , 0.8606416 , 0.08181864],\n",
       "       [0.07497489, 0.8606416 , 0.08194965],\n",
       "       [0.07538342, 0.8606416 , 0.08208066],\n",
       "       [0.07584202, 0.8606416 , 0.08221173],\n",
       "       [0.07630062, 0.8606416 , 0.08234274],\n",
       "       [0.07675922, 0.8606416 , 0.08247375],\n",
       "       [0.07721782, 0.8606416 , 0.08260477],\n",
       "       [0.07767642, 0.8606416 , 0.08273584],\n",
       "       [0.07813501, 0.8606416 , 0.08286685],\n",
       "       [0.07853496, 0.8606416 , 0.08299786],\n",
       "       [0.07890868, 0.8606416 , 0.08312893],\n",
       "       [0.07923627, 0.8606416 , 0.08324707],\n",
       "       [0.07950979, 0.8606416 , 0.08331257],\n",
       "       [0.07974696, 0.8606416 , 0.08337808],\n",
       "       [0.07994354, 0.8606416 , 0.08344358],\n",
       "       [0.08007872, 0.8606416 , 0.08350915],\n",
       "       [0.0801788 , 0.8606416 , 0.08355367],\n",
       "       [0.0802443 , 0.8606416 , 0.08355367],\n",
       "       [0.08024609, 0.8606416 , 0.08355367],\n",
       "       [0.08020651, 0.8606416 , 0.08355367],\n",
       "       [0.08014101, 0.8606416 , 0.08355367],\n",
       "       [0.08001024, 0.8606416 , 0.08355367],\n",
       "       [0.07985985, 0.8606416 , 0.08355367],\n",
       "       [0.07966328, 0.8606416 , 0.08353883],\n",
       "       [0.07944244, 0.8606416 , 0.08347327],\n",
       "       [0.07918036, 0.8606416 , 0.08340776],\n",
       "       [0.07891107, 0.8606416 , 0.08334225],\n",
       "       [0.07858348, 0.8606416 , 0.08327675],\n",
       "       [0.07825589, 0.8606416 , 0.08321124],\n",
       "       [0.07792509, 0.8606416 , 0.08314574],\n",
       "       [0.07753199, 0.8606416 , 0.08308023],\n",
       "       [0.0771389 , 0.8606416 , 0.08295113],\n",
       "       [0.07674581, 0.8606416 , 0.08282012],\n",
       "       [0.07635272, 0.8606416 , 0.08268911],\n",
       "       [0.07595962, 0.8606416 , 0.08255804],\n",
       "       [0.07556653, 0.8606416 , 0.08242702],\n",
       "       [0.07517344, 0.8606416 , 0.08229601],\n",
       "       [0.0747804 , 0.8606416 , 0.08216494],\n",
       "       [0.07438731, 0.8606416 , 0.08203393],\n",
       "       [0.07399422, 0.8606416 , 0.08190292],\n",
       "       [0.07360113, 0.8606416 , 0.08177185],\n",
       "       [0.07320803, 0.8606416 , 0.08164084],\n",
       "       [0.07281494, 0.8606416 , 0.08150983],\n",
       "       [0.07248616, 0.8606416 , 0.08137876],\n",
       "       [0.07215858, 0.8606416 , 0.08124775],\n",
       "       [0.07183099, 0.8606416 , 0.08111674],\n",
       "       [0.07150346, 0.8606416 , 0.08098567],\n",
       "       [0.07121587, 0.8606416 , 0.08085465],\n",
       "       [0.07095379, 0.8606416 , 0.08072364],\n",
       "       [0.07069176, 0.8606416 , 0.08059257],\n",
       "       [0.07042968, 0.8606416 , 0.08046156],\n",
       "       [0.07023168, 0.8606416 , 0.08034921],\n",
       "       [0.07003516, 0.8606416 , 0.0802837 ],\n",
       "       [0.06983858, 0.8606416 , 0.0802182 ],\n",
       "       [0.06965357, 0.8606416 , 0.08015269],\n",
       "       [0.06952256, 0.8606416 , 0.08008718],\n",
       "       [0.06939155, 0.8606416 , 0.08002168],\n",
       "       [0.06926048, 0.8606416 , 0.07995611],\n",
       "       [0.06915295, 0.8606416 , 0.07989061],\n",
       "       [0.06908739, 0.8606416 , 0.0798251 ],\n",
       "       [0.06902188, 0.8606416 , 0.0797596 ],\n",
       "       [0.06895638, 0.8606416 , 0.07969409],\n",
       "       [0.0689134 , 0.8606416 , 0.07966548],\n",
       "       [0.0689134 , 0.8606416 , 0.07966548],\n",
       "       [0.0689134 , 0.8606416 , 0.07966548],\n",
       "       [0.0689134 , 0.8606416 , 0.07966548],\n",
       "       [0.0689134 , 0.8606416 , 0.07966548],\n",
       "       [0.06893581, 0.8606416 , 0.07966548],\n",
       "       [0.06900132, 0.8606416 , 0.07966548],\n",
       "       [0.06906682, 0.8606416 , 0.07966548],\n",
       "       [0.06913239, 0.8606416 , 0.07972276],\n",
       "       [0.06919789, 0.8606416 , 0.07978827],\n",
       "       [0.06928551, 0.8606416 , 0.07985377],\n",
       "       [0.06941652, 0.8606416 , 0.07991928],\n",
       "       [0.06954753, 0.8606416 , 0.07998478],\n",
       "       [0.0696786 , 0.8606416 , 0.08005029]], dtype=float32)"
      ]
     },
     "execution_count": 21,
     "metadata": {},
     "output_type": "execute_result"
    }
   ],
   "source": [
    "particle_pos[:, 13353, :]"
   ]
  },
  {
   "cell_type": "code",
   "execution_count": 22,
   "metadata": {},
   "outputs": [
    {
     "data": {
      "text/plain": [
       "array([[0.0712477 , 0.8606416 , 0.08092177],\n",
       "       [0.0712477 , 0.8606416 , 0.08092177],\n",
       "       [0.0712477 , 0.8606416 , 0.08092177],\n",
       "       [0.0712477 , 0.8606416 , 0.08092177],\n",
       "       [0.0712477 , 0.8606416 , 0.08092177],\n",
       "       [0.0712477 , 0.8606416 , 0.08092177],\n",
       "       [0.0712477 , 0.8606416 , 0.08092177],\n",
       "       [0.0712477 , 0.8606416 , 0.08092177],\n",
       "       [0.0712477 , 0.8606416 , 0.08092177],\n",
       "       [0.0712477 , 0.8606416 , 0.08092177],\n",
       "       [0.0712477 , 0.8606416 , 0.08092177],\n",
       "       [0.0712477 , 0.8606416 , 0.08092177],\n",
       "       [0.0712477 , 0.8606416 , 0.08092177],\n",
       "       [0.0712477 , 0.8606416 , 0.08092177],\n",
       "       [0.0712477 , 0.8606416 , 0.08092177],\n",
       "       [0.0712477 , 0.8606416 , 0.08092177],\n",
       "       [0.0712477 , 0.8606416 , 0.08092177],\n",
       "       [0.0712477 , 0.8606416 , 0.08092177],\n",
       "       [0.0712477 , 0.8606416 , 0.08092177],\n",
       "       [0.0712477 , 0.8606416 , 0.08092177],\n",
       "       [0.0712477 , 0.8606416 , 0.08092177],\n",
       "       [0.0712477 , 0.8606416 , 0.08092177],\n",
       "       [0.0712477 , 0.8606416 , 0.08092177],\n",
       "       [0.0712477 , 0.8606416 , 0.08092177],\n",
       "       [0.0712477 , 0.8606416 , 0.08092177],\n",
       "       [0.0712477 , 0.8606416 , 0.08092177],\n",
       "       [0.0712477 , 0.8606416 , 0.08092177],\n",
       "       [0.0712477 , 0.8606416 , 0.08092177],\n",
       "       [0.0712477 , 0.8606416 , 0.08092177],\n",
       "       [0.0712477 , 0.8606416 , 0.08092177],\n",
       "       [0.0712477 , 0.8606416 , 0.08092177],\n",
       "       [0.0712477 , 0.8606416 , 0.08092177],\n",
       "       [0.0712477 , 0.8606416 , 0.08092177],\n",
       "       [0.0712477 , 0.8606416 , 0.08092177],\n",
       "       [0.0712477 , 0.8606416 , 0.08092177],\n",
       "       [0.0712477 , 0.8606416 , 0.08092177],\n",
       "       [0.0712477 , 0.8606416 , 0.08092177],\n",
       "       [0.0712477 , 0.8606416 , 0.08092177],\n",
       "       [0.0712477 , 0.8606416 , 0.08092177],\n",
       "       [0.0712477 , 0.8606416 , 0.08092177],\n",
       "       [0.0712477 , 0.8606416 , 0.08092177],\n",
       "       [0.0712477 , 0.8606416 , 0.08092177],\n",
       "       [0.0712477 , 0.8606416 , 0.08092177],\n",
       "       [0.0712477 , 0.8606416 , 0.08092177],\n",
       "       [0.0712477 , 0.8606416 , 0.08092177],\n",
       "       [0.0712477 , 0.8606416 , 0.08092177],\n",
       "       [0.0712477 , 0.8606416 , 0.08092177],\n",
       "       [0.0712477 , 0.8606416 , 0.08092177],\n",
       "       [0.0712477 , 0.8606416 , 0.08092177],\n",
       "       [0.0712477 , 0.8606416 , 0.08092177],\n",
       "       [0.0712477 , 0.8606416 , 0.08092177],\n",
       "       [0.0712477 , 0.8606416 , 0.08092177],\n",
       "       [0.0712477 , 0.8606416 , 0.08092177],\n",
       "       [0.0712477 , 0.8606416 , 0.08092177],\n",
       "       [0.0712477 , 0.8606416 , 0.08092177],\n",
       "       [0.0712477 , 0.8606416 , 0.08092177],\n",
       "       [0.0712477 , 0.8606416 , 0.08092177],\n",
       "       [0.0712477 , 0.8606416 , 0.08092177],\n",
       "       [0.0712477 , 0.8606416 , 0.08092177],\n",
       "       [0.0712477 , 0.8606416 , 0.08092177],\n",
       "       [0.0712477 , 0.8606416 , 0.08092177],\n",
       "       [0.0712477 , 0.8606416 , 0.08092177],\n",
       "       [0.0712477 , 0.8606416 , 0.08092177],\n",
       "       [0.0712477 , 0.8606416 , 0.08092177],\n",
       "       [0.0712477 , 0.8606416 , 0.08092177],\n",
       "       [0.0712477 , 0.8606416 , 0.08092177],\n",
       "       [0.0712477 , 0.8606416 , 0.08092177],\n",
       "       [0.0712477 , 0.8606416 , 0.08092177],\n",
       "       [0.0712477 , 0.8606416 , 0.08092177],\n",
       "       [0.0712477 , 0.8606416 , 0.08092177],\n",
       "       [0.0712477 , 0.8606416 , 0.08092177],\n",
       "       [0.0712477 , 0.8606416 , 0.08092177],\n",
       "       [0.0712477 , 0.8606416 , 0.08092177],\n",
       "       [0.0712477 , 0.8606416 , 0.08092177],\n",
       "       [0.0712477 , 0.8606416 , 0.08092177],\n",
       "       [0.0712477 , 0.8606416 , 0.08092177],\n",
       "       [0.0712477 , 0.8606416 , 0.08092177],\n",
       "       [0.0712477 , 0.8606416 , 0.08092177],\n",
       "       [0.0712477 , 0.8606416 , 0.08092177],\n",
       "       [0.0712477 , 0.8606416 , 0.08092177],\n",
       "       [0.0712477 , 0.8606416 , 0.08092177],\n",
       "       [0.0712477 , 0.8606416 , 0.08092177],\n",
       "       [0.0712477 , 0.8606416 , 0.08092177],\n",
       "       [0.0712477 , 0.8606416 , 0.08092177],\n",
       "       [0.0712477 , 0.8606416 , 0.08092177],\n",
       "       [0.0712477 , 0.8606416 , 0.08092177],\n",
       "       [0.0712477 , 0.8606416 , 0.08092177],\n",
       "       [0.0712477 , 0.8606416 , 0.08092177],\n",
       "       [0.0712477 , 0.8606416 , 0.08092177],\n",
       "       [0.0712477 , 0.8606416 , 0.08092177],\n",
       "       [0.0712477 , 0.8606416 , 0.08092177]], dtype=float32)"
      ]
     },
     "execution_count": 22,
     "metadata": {},
     "output_type": "execute_result"
    }
   ],
   "source": [
    "grid_pos[:, 13353, :]"
   ]
  },
  {
   "cell_type": "code",
   "execution_count": 32,
   "metadata": {},
   "outputs": [],
   "source": [
    "particle_v_in_path = osp.join(base_path, base_name + \"_particle__debug__grid_v_in.npy\")\n",
    "particle_v_in = np.load(particle_v_in_path)\n",
    "particle_v_out_path = osp.join(base_path, base_name + \"_particle__debug__grid_v_out.npy\")\n",
    "particle_v_out = np.load(particle_v_out_path)\n",
    "\n",
    "grid_v_in_path = osp.join(base_path, base_name + \"_grid_debug__grid_v_in.npy\")\n",
    "grid_v_in = np.load(grid_v_in_path)\n",
    "grid_v_out_path = osp.join(base_path, base_name + \"_grid_debug__grid_v_out.npy\")\n",
    "grid_v_out = np.load(grid_v_out_path)"
   ]
  },
  {
   "cell_type": "code",
   "execution_count": 33,
   "metadata": {},
   "outputs": [
    {
     "name": "stdout",
     "output_type": "stream",
     "text": [
      "check shape particle_v_in: (5, 64, 64, 64, 3), particle_v_out: (320, 64, 64, 3)\n",
      "check shape grid_v_in: (5, 64, 64, 64, 3), grid_v_out: (320, 64, 64, 3)\n"
     ]
    }
   ],
   "source": [
    "print(f\"check shape particle_v_in: {particle_v_in.shape}, particle_v_out: {particle_v_out.shape}\")\n",
    "print(f\"check shape grid_v_in: {grid_v_in.shape}, grid_v_out: {grid_v_out.shape}\")"
   ]
  },
  {
   "cell_type": "code",
   "execution_count": 34,
   "metadata": {},
   "outputs": [
    {
     "data": {
      "text/plain": [
       "(0, 0, 0, 0)"
      ]
     },
     "execution_count": 34,
     "metadata": {},
     "output_type": "execute_result"
    }
   ],
   "source": [
    "np.count_nonzero(particle_v_in), np.count_nonzero(particle_v_out), np.count_nonzero(grid_v_in), np.count_nonzero(grid_v_out)"
   ]
  },
  {
   "cell_type": "markdown",
   "metadata": {},
   "source": [
    "# 2025-02-11 check intermediate results in p2g2p_differentiable"
   ]
  },
  {
   "cell_type": "code",
   "execution_count": 1,
   "metadata": {},
   "outputs": [],
   "source": [
    "import os \n",
    "import os.path as osp\n",
    "import numpy as np"
   ]
  },
  {
   "cell_type": "code",
   "execution_count": 9,
   "metadata": {},
   "outputs": [],
   "source": [
    "base_path = \"/data/ruihan/projects/PhysDreamer/projects/inference/output/carnations/demos\"\n",
    "base_name = \"inference_demo_carnation_sv_gres64_substep768_eval_ys_5000000.0_force_0_mag_5e-06_point_0\"\n",
    "step = 0\n",
    "substep = 0"
   ]
  },
  {
   "cell_type": "code",
   "execution_count": 10,
   "metadata": {},
   "outputs": [],
   "source": [
    "particle_postfix = \"_particle\"\n",
    "grid_postfix = \"_grid\""
   ]
  },
  {
   "cell_type": "code",
   "execution_count": 11,
   "metadata": {},
   "outputs": [],
   "source": [
    "# after prep2g_operation\n",
    "particle_particle_v_afterprep2g_path = osp.join(base_path, base_name + f\"{particle_postfix}_particle_v_afterprep2g_{step}_{substep}.npy\")\n",
    "particle_particle_v_afterprep2g = np.load(particle_particle_v_afterprep2g_path)\n",
    "\n",
    "grid_particle_v_afterprep2g_path = osp.join(base_path, base_name + f\"{grid_postfix}_particle_v_afterprep2g_{step}_{substep}.npy\")\n",
    "grid_particle_v_afterprep2g = np.load(grid_particle_v_afterprep2g_path)"
   ]
  },
  {
   "cell_type": "code",
   "execution_count": 12,
   "metadata": {},
   "outputs": [
    {
     "name": "stdout",
     "output_type": "stream",
     "text": [
      "12569 0\n",
      "False\n"
     ]
    }
   ],
   "source": [
    "print(np.count_nonzero(particle_particle_v_afterprep2g), np.count_nonzero(grid_particle_v_afterprep2g))\n",
    "print(np.allclose(particle_particle_v_afterprep2g, grid_particle_v_afterprep2g))"
   ]
  },
  {
   "cell_type": "code",
   "execution_count": 13,
   "metadata": {},
   "outputs": [],
   "source": [
    "# before p2g_apic \n",
    "particle_grid_vin_bfp2g_path = osp.join(base_path, base_name + f\"{particle_postfix}_grid_vin_bfp2g_{step}_{substep}.npy\")\n",
    "particle_grid_vin_bfp2g = np.load(particle_grid_vin_bfp2g_path)\n",
    "\n",
    "grid_grid_vin_bfp2g_path = osp.join(base_path, base_name + f\"{grid_postfix}_grid_vin_bfp2g_{step}_{substep}.npy\")\n",
    "grid_grid_vin_bfp2g = np.load(grid_grid_vin_bfp2g_path)"
   ]
  },
  {
   "cell_type": "code",
   "execution_count": 14,
   "metadata": {},
   "outputs": [
    {
     "name": "stdout",
     "output_type": "stream",
     "text": [
      "0 0\n",
      "True\n"
     ]
    }
   ],
   "source": [
    "print(np.count_nonzero(particle_grid_vin_bfp2g), np.count_nonzero(grid_grid_vin_bfp2g))\n",
    "print(np.allclose(particle_grid_vin_bfp2g, grid_grid_vin_bfp2g))"
   ]
  },
  {
   "cell_type": "code",
   "execution_count": 15,
   "metadata": {},
   "outputs": [],
   "source": [
    "# after p2g_apic \n",
    "particle_grid_vin_afp2g_path = osp.join(base_path, base_name + f\"{particle_postfix}_grid_vin_afp2g_{step}_{substep}.npy\")\n",
    "particle_grid_vin_afp2g = np.load(particle_grid_vin_afp2g_path)\n",
    "\n",
    "grid_grid_vin_afp2g_path = osp.join(base_path, base_name + f\"{grid_postfix}_grid_vin_afp2g_{step}_{substep}.npy\")\n",
    "grid_grid_vin_afp2g = np.load(grid_grid_vin_afp2g_path)"
   ]
  },
  {
   "cell_type": "code",
   "execution_count": 16,
   "metadata": {},
   "outputs": [
    {
     "name": "stdout",
     "output_type": "stream",
     "text": [
      "1386 1386\n",
      "False\n"
     ]
    }
   ],
   "source": [
    "print(np.count_nonzero(particle_grid_vin_afp2g), np.count_nonzero(grid_grid_vin_afp2g))\n",
    "print(np.allclose(particle_grid_vin_afp2g, grid_grid_vin_afp2g))"
   ]
  },
  {
   "cell_type": "code",
   "execution_count": 17,
   "metadata": {},
   "outputs": [
    {
     "name": "stdout",
     "output_type": "stream",
     "text": [
      "[-5.6128978e-13 -2.8632576e-13 -1.5349829e-13]\n",
      "[-6.2793922e-13 -2.8632576e-13 -1.5349829e-13]\n"
     ]
    }
   ],
   "source": [
    "print(particle_grid_vin_afp2g[24,45,12])\n",
    "print(grid_grid_vin_afp2g[24,45,12])"
   ]
  },
  {
   "cell_type": "code",
   "execution_count": 18,
   "metadata": {},
   "outputs": [],
   "source": [
    "# after extra \n",
    "particle_grid_vin_afextra_path = osp.join(base_path, base_name + f\"{particle_postfix}_grid_vin_afextra_{step}_{substep}.npy\")\n",
    "particle_grid_vin_afextra = np.load(particle_grid_vin_afextra_path)\n",
    "\n",
    "grid_grid_vin_afextra_path = osp.join(base_path, base_name + f\"{grid_postfix}_grid_vin_afextra_{step}_{substep}.npy\")\n",
    "grid_grid_vin_afextra = np.load(grid_grid_vin_afextra_path)"
   ]
  },
  {
   "cell_type": "code",
   "execution_count": 19,
   "metadata": {},
   "outputs": [
    {
     "name": "stdout",
     "output_type": "stream",
     "text": [
      "check shape particle_grid_vin_afextra (64, 64, 64, 3), grid_grid_vin_afextra (64, 64, 64, 3)\n"
     ]
    }
   ],
   "source": [
    "print(f\"check shape particle_grid_vin_afextra {particle_grid_vin_afextra.shape}, grid_grid_vin_afextra {grid_grid_vin_afextra.shape}\")"
   ]
  },
  {
   "cell_type": "code",
   "execution_count": 20,
   "metadata": {},
   "outputs": [
    {
     "name": "stdout",
     "output_type": "stream",
     "text": [
      "{0, 1, 16, 17, 18, 19, 20, 21, 22, 23, 24} \n",
      " {0, 1, 35, 36, 37, 38, 39, 40, 41, 42, 43, 44, 45, 62, 63} \n",
      " {0, 1, 8, 9, 10, 11, 12, 13, 14, 15, 16, 17, 18, 19, 20, 21, 63}\n"
     ]
    }
   ],
   "source": [
    "print(set(np.nonzero(particle_grid_vin_afextra)[0]), \"\\n\", set(np.nonzero(particle_grid_vin_afextra)[1]),\"\\n\", set(np.nonzero(particle_grid_vin_afextra)[2]))"
   ]
  },
  {
   "cell_type": "code",
   "execution_count": 21,
   "metadata": {},
   "outputs": [
    {
     "name": "stdout",
     "output_type": "stream",
     "text": [
      "{0, 1, 16, 17, 18, 19, 20, 21, 22, 23, 24} \n",
      " {0, 1, 35, 36, 37, 38, 39, 40, 41, 42, 43, 44, 45, 62, 63} \n",
      " {0, 1, 8, 9, 10, 11, 12, 13, 14, 15, 16, 17, 18, 19, 20, 21, 63}\n"
     ]
    }
   ],
   "source": [
    "print(set(np.nonzero(grid_grid_vin_afextra)[0]), \"\\n\", set(np.nonzero(grid_grid_vin_afextra)[1]),\"\\n\", set(np.nonzero(grid_grid_vin_afextra)[2]))"
   ]
  },
  {
   "cell_type": "code",
   "execution_count": 22,
   "metadata": {},
   "outputs": [
    {
     "name": "stdout",
     "output_type": "stream",
     "text": [
      "1386 1386\n",
      "True\n",
      "check range particle_grid_vin_afextra: -4.664332919901426e-09, 1.0664557237305416e-07\n",
      "check range grid_grid_vin_afextra: -4.664332475812216e-09, 1.0664560790019095e-07\n"
     ]
    }
   ],
   "source": [
    "print(np.count_nonzero(particle_grid_vin_afextra), np.count_nonzero(grid_grid_vin_afextra))\n",
    "# check if two arrays are the same\n",
    "print(np.allclose(particle_grid_vin_afextra, grid_grid_vin_afextra))\n",
    "print(f\"check range particle_grid_vin_afextra: {np.min(particle_grid_vin_afextra)}, {np.max(particle_grid_vin_afextra)}\")\n",
    "print(f\"check range grid_grid_vin_afextra: {np.min(grid_grid_vin_afextra)}, {np.max(grid_grid_vin_afextra)}\")"
   ]
  },
  {
   "cell_type": "code",
   "execution_count": 23,
   "metadata": {},
   "outputs": [],
   "source": [
    "# after grid update\n",
    "particle_grid_vout_gridupdate_path = osp.join(base_path, base_name + f\"{particle_postfix}_grid_vout_gridupdate_{step}_{substep}.npy\")\n",
    "particle_grid_vout_gridupdate = np.load(particle_grid_vout_gridupdate_path)\n",
    "\n",
    "grid_grid_vout_gridupdate_path = osp.join(base_path, base_name + f\"{grid_postfix}_grid_vout_gridupdate_{step}_{substep}.npy\")\n",
    "grid_grid_vout_gridupdate = np.load(grid_grid_vout_gridupdate_path)"
   ]
  },
  {
   "cell_type": "code",
   "execution_count": 24,
   "metadata": {},
   "outputs": [
    {
     "name": "stdout",
     "output_type": "stream",
     "text": [
      "1386 1386\n",
      "True\n",
      "check range particle_grid_vout_gridupdate: -0.0001968154829228297, 6.520856550196186e-05\n",
      "check range grid_grid_vout_gridupdate: -0.0001968154829228297, 6.520856550196186e-05\n"
     ]
    }
   ],
   "source": [
    "print(np.count_nonzero(particle_grid_vout_gridupdate), np.count_nonzero(grid_grid_vout_gridupdate))\n",
    "# check if two arrays are the same\n",
    "print(np.allclose(particle_grid_vout_gridupdate, grid_grid_vout_gridupdate))\n",
    "print(f\"check range particle_grid_vout_gridupdate: {np.min(particle_grid_vout_gridupdate)}, {np.max(particle_grid_vout_gridupdate)}\")\n",
    "print(f\"check range grid_grid_vout_gridupdate: {np.min(grid_grid_vout_gridupdate)}, {np.max(grid_grid_vout_gridupdate)}\")"
   ]
  },
  {
   "cell_type": "code",
   "execution_count": 25,
   "metadata": {},
   "outputs": [],
   "source": [
    "# after grid BC\n",
    "particle_grid_vout_gridBC_path = osp.join(base_path, base_name + f\"{particle_postfix}_grid_vout_gridBC_{step}_{substep}.npy\")\n",
    "particle_grid_vout_gridBC = np.load(particle_grid_vout_gridBC_path)\n",
    "\n",
    "grid_grid_vout_gridBC_path = osp.join(base_path, base_name + f\"{grid_postfix}_grid_vout_gridBC_{step}_{substep}.npy\")\n",
    "grid_grid_vout_gridBC = np.load(grid_grid_vout_gridBC_path)"
   ]
  },
  {
   "cell_type": "code",
   "execution_count": 26,
   "metadata": {},
   "outputs": [
    {
     "name": "stdout",
     "output_type": "stream",
     "text": [
      "1317 1317\n",
      "True\n",
      "check range particle_grid_vout_gridBC: -0.0001968154829228297, 6.520856550196186e-05\n",
      "check range grid_grid_vout_gridBC: -0.0001968154829228297, 6.520856550196186e-05\n"
     ]
    }
   ],
   "source": [
    "print(np.count_nonzero(particle_grid_vout_gridBC), np.count_nonzero(grid_grid_vout_gridBC))\n",
    "# check if two arrays are the same\n",
    "print(np.allclose(particle_grid_vout_gridBC, grid_grid_vout_gridBC))\n",
    "print(f\"check range particle_grid_vout_gridBC: {np.min(particle_grid_vout_gridBC)}, {np.max(particle_grid_vout_gridBC)}\")\n",
    "print(f\"check range grid_grid_vout_gridBC: {np.min(grid_grid_vout_gridBC)}, {np.max(grid_grid_vout_gridBC)}\")"
   ]
  },
  {
   "cell_type": "markdown",
   "metadata": {},
   "source": [
    "### Compare particle velocity through the whole simulation"
   ]
  },
  {
   "cell_type": "code",
   "execution_count": 27,
   "metadata": {},
   "outputs": [
    {
     "name": "stdout",
     "output_type": "stream",
     "text": [
      "check shape particle_pv: (69120, 13356, 3), grid_pv: (69120, 13356, 3)\n"
     ]
    }
   ],
   "source": [
    "particle_pv_path = osp.join(base_path, base_name + f\"{particle_postfix}_particle_v.npy\")\n",
    "particle_pv = np.load(particle_pv_path)\n",
    "\n",
    "grid_pv_path = osp.join(base_path, base_name + f\"{grid_postfix}_particle_v.npy\")\n",
    "grid_pv = np.load(grid_pv_path)\n",
    "\n",
    "print(f\"check shape particle_pv: {particle_pv.shape}, grid_pv: {grid_pv.shape}\")"
   ]
  },
  {
   "cell_type": "code",
   "execution_count": 31,
   "metadata": {},
   "outputs": [
    {
     "data": {
      "image/png": "[encoded data removed]",
      "text/plain": [
       "<Figure size 640x480 with 1 Axes>"
      ]
     },
     "metadata": {},
     "output_type": "display_data"
    }
   ],
   "source": [
    "# track the maximum speed in x direction through the simulation\n",
    "particle_pv_x_max = np.max(particle_pv[:, :, 0], axis=1)\n",
    "grid_pv_x_max = np.max(grid_pv[:, :, 0], axis=1)\n",
    "# plot the maximum speed in x direction\n",
    "import matplotlib.pyplot as plt\n",
    "plt.plot(particle_pv_x_max, label=\"particle\")\n",
    "plt.plot(grid_pv_x_max, label=\"grid\")\n",
    "plt.legend()\n",
    "plt.savefig(\"max_speed_x.png\")\n",
    "plt.show()\n"
   ]
  },
  {
   "cell_type": "code",
   "execution_count": null,
   "metadata": {},
   "outputs": [],
   "source": []
  }
 ],
 "metadata": {
  "kernelspec": {
   "display_name": "physdreamer",
   "language": "python",
   "name": "python3"
  },
  "language_info": {
   "codemirror_mode": {
    "name": "ipython",
    "version": 3
   },
   "file_extension": ".py",
   "mimetype": "text/x-python",
   "name": "python",
   "nbconvert_exporter": "python",
   "pygments_lexer": "ipython3",
   "version": "3.10.16"
  }
 },
 "nbformat": 4,
 "nbformat_minor": 2
}
