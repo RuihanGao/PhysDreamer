{
 "cells": [
  {
   "cell_type": "markdown",
   "metadata": {},
   "source": [
    "# check the operation separately without the forward and backward pass"
   ]
  },
  {
   "cell_type": "code",
   "execution_count": 1,
   "metadata": {},
   "outputs": [],
   "source": [
    "import numpy as np\n",
    "import warp as wp\n",
    "import torch\n",
    "import matplotlib.pyplot as plt\n",
    "import os\n",
    "import os.path as osp"
   ]
  },
  {
   "cell_type": "code",
   "execution_count": 2,
   "metadata": {},
   "outputs": [],
   "source": [
    "from datetime import datetime\n",
    "today = datetime.today().strftime('%Y%m%d')\n",
    "log_dir = f\"logs/{today}\"\n",
    "os.makedirs(log_dir, exist_ok=True)\n",
    "\n",
    "data_path = \"/data/ruihan/projects/PhysDreamer/physdreamer/warp_mpm/logs/20250321\"\n",
    "device = \"cuda:0\""
   ]
  },
  {
   "cell_type": "code",
   "execution_count": 3,
   "metadata": {},
   "outputs": [
    {
     "name": "stdout",
     "output_type": "stream",
     "text": [
      "check grid_v_in_torch shape torch.Size([5, 5, 5, 3]), dtype torch.float64\n"
     ]
    }
   ],
   "source": [
    "# load the grid_v_in data from torch and warp respectively\n",
    "grid_v_in_torch = np.load(osp.join(data_path, \"grid_v_in_torch.npz\"))[\"grid_v_in\"]\n",
    "grid_v_in_torch = torch.from_numpy(grid_v_in_torch).to(device)\n",
    "print(f\"check grid_v_in_torch shape {grid_v_in_torch.shape}, dtype {grid_v_in_torch.dtype}\")\n"
   ]
  },
  {
   "cell_type": "code",
   "execution_count": 25,
   "metadata": {},
   "outputs": [],
   "source": [
    "wp.init()\n",
    "\n",
    "@wp.kernel\n",
    "def sum_grid_v_in(\n",
    "    grid_v_in: wp.array(dtype=wp.vec3d),\n",
    "    loss: wp.array(dtype=wp.float64)  \n",
    "):\n",
    "    \"\"\"\n",
    "    Compute how grid velocity `grid_v_in` contributes to the loss gradient.\n",
    "    \"\"\"\n",
    "\n",
    "    i, j, k = wp.tid()  # Thread index for grid\n",
    "    \n",
    "\n",
    "\n",
    "    # Fetch the current grid velocity\n",
    "    grid_v_tensor = grid_v_in[i, j, k]\n",
    "\n",
    "    # Accumulate the loss gradient contribution\n",
    "    print(i)\n",
    "    wp.atomic_add(loss, 0, grid_v_tensor[0])\n",
    "    wp.atomic_add(loss, 0, grid_v_tensor[1])\n",
    "    wp.atomic_add(loss, 0, grid_v_tensor[2])"
   ]
  },
  {
   "cell_type": "code",
   "execution_count": 17,
   "metadata": {},
   "outputs": [
    {
     "name": "stdout",
     "output_type": "stream",
     "text": [
      "shape (5, 5, 5, 3)\n",
      "grid_size (5, 5, 5)\n",
      "check grid_v_in_warp, dtype <class 'warp.types.float64'>, type <class 'warp.types.array'>\n"
     ]
    }
   ],
   "source": [
    "grid_v_in_warp = np.load(osp.join(data_path, \"grid_v_in_wp.npz\"))[\"grid_v_in\"]\n",
    "print(f\"shape {grid_v_in_warp.shape}\")\n",
    "grid_size = (grid_v_in_warp.shape[0], grid_v_in_warp.shape[1], grid_v_in_warp.shape[2])\n",
    "print(f\"grid_size {grid_size}\")\n",
    "grid_v_in_warp = wp.from_torch(torch.from_numpy(grid_v_in_warp).to(device))\n",
    "print(f\"check grid_v_in_warp, dtype {grid_v_in_warp.dtype}, type {type(grid_v_in_warp)}\")"
   ]
  },
  {
   "cell_type": "code",
   "execution_count": 29,
   "metadata": {},
   "outputs": [
    {
     "name": "stdout",
     "output_type": "stream",
     "text": [
      "sum_torch 4.263256414560601e-14, sum_wp []\n"
     ]
    }
   ],
   "source": [
    "# compute torch sum\n",
    "sum_torch = torch.sum(grid_v_in_torch)\n",
    "# compute warp sum\n",
    "sum_wp = wp.zeros(dtype=wp.float64)\n",
    "\n",
    "tape = wp.Tape()\n",
    "with tape:\n",
    "\n",
    "    wp.launch(\n",
    "        kernel=sum_grid_v_in,\n",
    "        dim=grid_size,\n",
    "        inputs=[grid_v_in_warp, sum_wp],\n",
    "        device=device\n",
    "    ) \n",
    "print(f\"sum_torch {sum_torch}, sum_wp {sum_wp}\")"
   ]
  },
  {
   "cell_type": "code",
   "execution_count": null,
   "metadata": {},
   "outputs": [],
   "source": []
  }
 ],
 "metadata": {
  "kernelspec": {
   "display_name": "physdreamer",
   "language": "python",
   "name": "python3"
  },
  "language_info": {
   "codemirror_mode": {
    "name": "ipython",
    "version": 3
   },
   "file_extension": ".py",
   "mimetype": "text/x-python",
   "name": "python",
   "nbconvert_exporter": "python",
   "pygments_lexer": "ipython3",
   "version": "3.10.16"
  }
 },
 "nbformat": 4,
 "nbformat_minor": 2
}
