{
 "cells": [
  {
   "cell_type": "markdown",
   "metadata": {},
   "source": [
    "# Compare gradient before and after apply_impulse kernel \n",
    "Expectation: same gradient"
   ]
  },
  {
   "cell_type": "code",
   "execution_count": 2,
   "metadata": {},
   "outputs": [],
   "source": [
    "import os\n",
    "import os.path as osp\n",
    "import numpy as np"
   ]
  },
  {
   "cell_type": "code",
   "execution_count": 4,
   "metadata": {},
   "outputs": [
    {
     "name": "stdout",
     "output_type": "stream",
     "text": [
      "check shape, gradient_w_apply_impulse: (10, 3, 3), gradient_wo_apply_impulse: (10, 3, 3)\n"
     ]
    }
   ],
   "source": [
    "# create a log directory by date\n",
    "from datetime import datetime\n",
    "today = datetime.today().strftime('%Y%m%d')\n",
    "log_dir = f\"logs/{today}\"\n",
    "os.makedirs(log_dir, exist_ok=True)\n",
    "\n",
    "gradient_w_apply_impulse = np.load(osp.join(log_dir, \"gradient_w_apply_impulse.npy\"))\n",
    "gradient_wo_apply_impulse = np.load(osp.join(log_dir, \"gradient_wo_apply_impulse.npy\"))\n",
    "\n",
    "print(f\"check shape, gradient_w_apply_impulse: {gradient_w_apply_impulse.shape}, gradient_wo_apply_impulse: {gradient_wo_apply_impulse.shape}\")"
   ]
  },
  {
   "cell_type": "code",
   "execution_count": 5,
   "metadata": {},
   "outputs": [
    {
     "data": {
      "text/plain": [
       "True"
      ]
     },
     "execution_count": 5,
     "metadata": {},
     "output_type": "execute_result"
    }
   ],
   "source": [
    "# check if the two gradients are equal\n",
    "np.allclose(gradient_w_apply_impulse, gradient_wo_apply_impulse, atol=1e-5)"
   ]
  },
  {
   "cell_type": "code",
   "execution_count": null,
   "metadata": {},
   "outputs": [],
   "source": []
  }
 ],
 "metadata": {
  "kernelspec": {
   "display_name": "physdreamer",
   "language": "python",
   "name": "python3"
  },
  "language_info": {
   "codemirror_mode": {
    "name": "ipython",
    "version": 3
   },
   "file_extension": ".py",
   "mimetype": "text/x-python",
   "name": "python",
   "nbconvert_exporter": "python",
   "pygments_lexer": "ipython3",
   "version": "3.10.16"
  }
 },
 "nbformat": 4,
 "nbformat_minor": 2
}
